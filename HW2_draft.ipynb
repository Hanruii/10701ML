{
 "cells": [
  {
   "cell_type": "code",
   "execution_count": 5,
   "id": "00bf866d",
   "metadata": {},
   "outputs": [],
   "source": [
    "import numpy as np\n",
    "\n",
    "# Sample Input/Output\n",
    "d = 10\n",
    "n = 1000\n",
    "\n",
    "np.random.seed(0)\n",
    "X = np.random.randn(n, d)\n",
    "Y = np.array([0] * (n // 2) + [1] * (n // 2))\n",
    "eta = 1e-3\n",
    "rho = 1e-6\n",
    "    \n",
    "class LogisticRegression:\n",
    "    def __init__(self, d):\n",
    "        self.w = np.random.randn(d)\n",
    "\n",
    "    def compute_loss(self, X, Y):\n",
    "        \"\"\"\n",
    "        Compute l(w) with n samples.\n",
    "        Inputs:\n",
    "            X  - A numpy array of size (n, d). Each row is a sample.\n",
    "            Y  - A numpy array of size (n,). Each element is 0 or 1.\n",
    "        Returns:\n",
    "            A float.\n",
    "        \"\"\"\n",
    "        self.lw = 0\n",
    "        for i in range(len(Y)):\n",
    "            self.lw = ((np.log(1+np.exp(np.dot(self.w, X[i+1])))-np.dot(self.w, X[i+1])*Y[i+1])+self.lw)/len(Y)\n",
    "        raise NotImplementedError"
   ]
  },
  {
   "cell_type": "code",
   "execution_count": 8,
   "id": "42acf2fd",
   "metadata": {},
   "outputs": [
    {
     "ename": "NameError",
     "evalue": "name 'self' is not defined",
     "output_type": "error",
     "traceback": [
      "\u001b[0;31m---------------------------------------------------------------------------\u001b[0m",
      "\u001b[0;31mNameError\u001b[0m                                 Traceback (most recent call last)",
      "Input \u001b[0;32mIn [8]\u001b[0m, in \u001b[0;36m<cell line: 1>\u001b[0;34m()\u001b[0m\n\u001b[0;32m----> 1\u001b[0m \u001b[38;5;28mprint\u001b[39m(\u001b[38;5;28;43mself\u001b[39;49m\u001b[38;5;241m.\u001b[39mlw)\n",
      "\u001b[0;31mNameError\u001b[0m: name 'self' is not defined"
     ]
    }
   ],
   "source": [
    "print(self.lw)"
   ]
  },
  {
   "cell_type": "code",
   "execution_count": 9,
   "id": "c2bf425d",
   "metadata": {},
   "outputs": [
    {
     "data": {
      "text/plain": [
       "array([[1., 2., 3.],\n",
       "       [4., 5., 6.],\n",
       "       [7., 8., 9.]])"
      ]
     },
     "execution_count": 9,
     "metadata": {},
     "output_type": "execute_result"
    }
   ],
   "source": [
    "x1 = np.arange(9.0).reshape((3, 3))\n",
    "np.add(x1, 1)"
   ]
  },
  {
   "cell_type": "code",
   "execution_count": 10,
   "id": "9869e04c",
   "metadata": {},
   "outputs": [
    {
     "data": {
      "text/plain": [
       "array([[1., 2., 3.],\n",
       "       [4., 5., 6.],\n",
       "       [7., 8., 9.]])"
      ]
     },
     "execution_count": 10,
     "metadata": {},
     "output_type": "execute_result"
    }
   ],
   "source": [
    "x1+1"
   ]
  },
  {
   "cell_type": "code",
   "execution_count": 13,
   "id": "728302cd",
   "metadata": {},
   "outputs": [],
   "source": [
    "seed=0\n",
    "np.random.seed(0)"
   ]
  },
  {
   "cell_type": "code",
   "execution_count": 92,
   "id": "b813bfbf",
   "metadata": {},
   "outputs": [],
   "source": [
    "alpha = np.array([[1, 1, 2, -3, 0, 1, -3], [1, 2, 1, 1, 1, 0, 2], [1, 3, 2, 2, 2, 2, 1], [1, 2, 0, 3, 1, -2, 2]])\n",
    "x = np.array([1,1,0,1,0,1,1])\n",
    "a = np.dot(alpha, x)\n",
    "z = 1/(1+np.exp(-a))"
   ]
  },
  {
   "cell_type": "code",
   "execution_count": 93,
   "id": "744c8ac8",
   "metadata": {},
   "outputs": [
    {
     "name": "stdout",
     "output_type": "stream",
     "text": [
      "[0.04742587 0.99752738 0.99987661 0.99752738]\n"
     ]
    }
   ],
   "source": [
    "print(z)"
   ]
  },
  {
   "cell_type": "code",
   "execution_count": 94,
   "id": "cfdf4818",
   "metadata": {},
   "outputs": [
    {
     "name": "stdout",
     "output_type": "stream",
     "text": [
      "[1.         0.04742587 0.99752738 0.99987661 0.99752738]\n"
     ]
    }
   ],
   "source": [
    "z_hat = np.append(1, z)\n",
    "print(z_hat)"
   ]
  },
  {
   "cell_type": "code",
   "execution_count": 95,
   "id": "61b2ff9d",
   "metadata": {},
   "outputs": [
    {
     "name": "stdout",
     "output_type": "stream",
     "text": [
      "[4.03530955 4.09448156 2.13745577]\n"
     ]
    }
   ],
   "source": [
    "beta = np.array([[1, 1, 2, -2, 3], [1, 2, -1, 3, 1], [1, 3, 1, -1, 1]])\n",
    "b = np.dot(beta, z_hat)\n",
    "print(b)"
   ]
  },
  {
   "cell_type": "code",
   "execution_count": 96,
   "id": "f3e90127",
   "metadata": {},
   "outputs": [
    {
     "name": "stdout",
     "output_type": "stream",
     "text": [
      "[56.56042561 60.00822059  8.47784057]\n",
      "125.04648677219633\n",
      "[0.45231519 0.4798873  0.06779751]\n"
     ]
    }
   ],
   "source": [
    "expb = np.exp(b)\n",
    "print(expb)\n",
    "sum = np.sum(np.exp(b))\n",
    "print(sum)\n",
    "y_hat = np.exp(b)/np.sum(np.exp(b))\n",
    "print(y_hat)"
   ]
  },
  {
   "cell_type": "code",
   "execution_count": 97,
   "id": "87e2b596",
   "metadata": {},
   "outputs": [
    {
     "name": "stdout",
     "output_type": "stream",
     "text": [
      "[-0.79337602 -0.734204   -2.69122979]\n",
      "[-0.         -0.         -2.69122979]\n",
      "-2.691229794548955\n"
     ]
    }
   ],
   "source": [
    "y = [0, 0, 1]\n",
    "logyh = np.log(y_hat)\n",
    "print(logyh)\n",
    "yy = y*logyh\n",
    "print(yy)\n",
    "loss = np.sum(y*np.log(y_hat))\n",
    "print(loss)"
   ]
  },
  {
   "cell_type": "code",
   "execution_count": 98,
   "id": "3bd8215d",
   "metadata": {},
   "outputs": [
    {
     "name": "stdout",
     "output_type": "stream",
     "text": [
      "[ 0  0 -1]\n",
      "[ 0.06779751  0.06779751 -0.93220249]\n"
     ]
    }
   ],
   "source": [
    "y_ = np.multiply(-1, y)\n",
    "print(y_)\n",
    "dldb = y_+np.sum(np.dot(y,y_hat))\n",
    "print(dldb)"
   ]
  },
  {
   "cell_type": "code",
   "execution_count": 100,
   "id": "41323254",
   "metadata": {},
   "outputs": [
    {
     "name": "stdout",
     "output_type": "stream",
     "text": [
      "[[1.         0.04742587 0.99752738 0.99987661 0.99752738]]\n",
      "[[ 0.06779751  0.06779751 -0.93220249]\n",
      " [ 0.00321536  0.00321536 -0.04421052]\n",
      " [ 0.06762987  0.06762987 -0.9298975 ]\n",
      " [ 0.06778915  0.06778915 -0.93208746]\n",
      " [ 0.06762987  0.06762987 -0.9298975 ]]\n"
     ]
    }
   ],
   "source": [
    "z_append = np.array([z_hat])\n",
    "print(z_append)\n",
    "dldbeta = np.dot(z_append.T, [dldb])\n",
    "print(dldbeta)"
   ]
  },
  {
   "cell_type": "code",
   "execution_count": 89,
   "id": "bfb36d2d",
   "metadata": {},
   "outputs": [
    {
     "ename": "NameError",
     "evalue": "name 'dldb' is not defined",
     "output_type": "error",
     "traceback": [
      "\u001b[0;31m---------------------------------------------------------------------------\u001b[0m",
      "\u001b[0;31mNameError\u001b[0m                                 Traceback (most recent call last)",
      "Input \u001b[0;32mIn [89]\u001b[0m, in \u001b[0;36m<cell line: 1>\u001b[0;34m()\u001b[0m\n\u001b[0;32m----> 1\u001b[0m \u001b[38;5;28mprint\u001b[39m(\u001b[43mdldb\u001b[49m)\n",
      "\u001b[0;31mNameError\u001b[0m: name 'dldb' is not defined"
     ]
    }
   ],
   "source": [
    "print(dldb)"
   ]
  },
  {
   "cell_type": "code",
   "execution_count": 61,
   "id": "41fd90b5",
   "metadata": {},
   "outputs": [
    {
     "name": "stdout",
     "output_type": "stream",
     "text": [
      "[[ 1  2 -2  3]\n",
      " [ 2 -1  3  1]\n",
      " [ 3  1 -1  1]]\n"
     ]
    }
   ],
   "source": [
    "beta_star = np.array([[1, 2, -2, 3], [2, -1, 3, 1], [3, 1, -1, 1]])\n",
    "print(beta_star)"
   ]
  },
  {
   "cell_type": "code",
   "execution_count": 63,
   "id": "d1b76309",
   "metadata": {},
   "outputs": [
    {
     "name": "stdout",
     "output_type": "stream",
     "text": [
      "[-2.59321493 -0.86440498  1.         -0.66101244]\n"
     ]
    }
   ],
   "source": [
    "dldz = np.dot(dldb, beta_star)\n",
    "print(dldz)"
   ]
  },
  {
   "cell_type": "code",
   "execution_count": 65,
   "id": "56d50f7d",
   "metadata": {},
   "outputs": [
    {
     "name": "stdout",
     "output_type": "stream",
     "text": [
      "[-0.11715279 -0.00213206  0.00012338 -0.00163039]\n"
     ]
    }
   ],
   "source": [
    "dlda = dldz*z*(1-z)\n",
    "print(dlda)\n",
    "\n"
   ]
  },
  {
   "cell_type": "code",
   "execution_count": 71,
   "id": "691f7c8e",
   "metadata": {},
   "outputs": [
    {
     "name": "stdout",
     "output_type": "stream",
     "text": [
      "[[-0.11715279 -0.00213206  0.00012338 -0.00163039]\n",
      " [-0.11715279 -0.00213206  0.00012338 -0.00163039]\n",
      " [-0.         -0.          0.         -0.        ]\n",
      " [-0.11715279 -0.00213206  0.00012338 -0.00163039]\n",
      " [-0.         -0.          0.         -0.        ]\n",
      " [-0.11715279 -0.00213206  0.00012338 -0.00163039]\n",
      " [-0.11715279 -0.00213206  0.00012338 -0.00163039]]\n"
     ]
    }
   ],
   "source": [
    "\n",
    "dldalpha = np.dot(np.transpose([x]), [dlda])\n",
    "print(dldalpha)"
   ]
  },
  {
   "cell_type": "code",
   "execution_count": 72,
   "id": "3f82d08a",
   "metadata": {},
   "outputs": [
    {
     "name": "stdout",
     "output_type": "stream",
     "text": [
      "6.708203932499369\n"
     ]
    }
   ],
   "source": [
    "beta_norm = np.linalg.norm(beta_star)\n",
    "print(beta_norm)\n"
   ]
  },
  {
   "cell_type": "code",
   "execution_count": 74,
   "id": "d8956e9f",
   "metadata": {},
   "outputs": [
    {
     "name": "stdout",
     "output_type": "stream",
     "text": [
      "[[ 1  2 -3  0  1 -3]\n",
      " [ 2  1  1  1  0  2]\n",
      " [ 3  2  2  2  2  1]\n",
      " [ 2  0  3  1 -2  2]]\n",
      "3.9712297945489548\n"
     ]
    }
   ],
   "source": [
    "alpha_star = np.array([[1, 2, -3, 0, 1, -3], [2, 1, 1, 1, 0, 2], [3, 2, 2, 2, 2, 1], [2, 0, 3, 1, -2, 2]])\n",
    "print(alpha_star)\n",
    "alpha_norm = np.linalg.norm(alpha_star)\n",
    "L = -loss+0.01*(alpha_norm**2+beta_norm**2)\n",
    "print(L)"
   ]
  },
  {
   "cell_type": "code",
   "execution_count": 1,
   "id": "b0c2e4eb",
   "metadata": {},
   "outputs": [],
   "source": [
    "from net import NeuralNetwork"
   ]
  },
  {
   "cell_type": "code",
   "execution_count": 2,
   "id": "29dee26d",
   "metadata": {},
   "outputs": [],
   "source": [
    "model = NeuralNetwork()"
   ]
  },
  {
   "cell_type": "code",
   "execution_count": 5,
   "id": "d4a80c65",
   "metadata": {},
   "outputs": [
    {
     "ename": "TypeError",
     "evalue": "forward() missing 1 required positional argument: 'x'",
     "output_type": "error",
     "traceback": [
      "\u001b[0;31m---------------------------------------------------------------------------\u001b[0m",
      "\u001b[0;31mTypeError\u001b[0m                                 Traceback (most recent call last)",
      "Input \u001b[0;32mIn [5]\u001b[0m, in \u001b[0;36m<cell line: 1>\u001b[0;34m()\u001b[0m\n\u001b[0;32m----> 1\u001b[0m \u001b[43mmodel\u001b[49m\u001b[38;5;241;43m.\u001b[39;49m\u001b[43mforward\u001b[49m\u001b[43m(\u001b[49m\u001b[43m[\u001b[49m\u001b[38;5;241;43m1\u001b[39;49m\u001b[43m,\u001b[49m\u001b[43m \u001b[49m\u001b[38;5;241;43m2\u001b[39;49m\u001b[43m,\u001b[49m\u001b[43m \u001b[49m\u001b[38;5;241;43m3\u001b[39;49m\u001b[43m]\u001b[49m\u001b[43m)\u001b[49m\n",
      "\u001b[0;31mTypeError\u001b[0m: forward() missing 1 required positional argument: 'x'"
     ]
    }
   ],
   "source": [
    "model.forward([1, 2, 3])"
   ]
  },
  {
   "cell_type": "code",
   "execution_count": 123,
   "id": "f947d89e",
   "metadata": {},
   "outputs": [
    {
     "name": "stdout",
     "output_type": "stream",
     "text": [
      "2\n"
     ]
    }
   ],
   "source": [
    "import numpy as np\n",
    "biases = [np.array([0.2, 0.0, -0.2]), np.array([0.5])]\n",
    "L = len(biases) \n",
    "print(L)"
   ]
  },
  {
   "cell_type": "code",
   "execution_count": 124,
   "id": "37c79db9",
   "metadata": {},
   "outputs": [
    {
     "name": "stdout",
     "output_type": "stream",
     "text": [
      "[ 0.2  0.  -0.2]\n"
     ]
    }
   ],
   "source": [
    "print(biases[0])"
   ]
  },
  {
   "cell_type": "code",
   "execution_count": 125,
   "id": "18a6daf6",
   "metadata": {},
   "outputs": [],
   "source": [
    "weights = [np.array([[0.1, 0.2, 0.3], [0.4, 0.5, 0.6]]), np.array([[-0.1], [-0.2], [-0.3]])]\n",
    "x = np.array([1., 2.])\n",
    "#fx = np.dot(weights[0], x)"
   ]
  },
  {
   "cell_type": "code",
   "execution_count": 14,
   "id": "7e3b5d33",
   "metadata": {},
   "outputs": [
    {
     "name": "stdout",
     "output_type": "stream",
     "text": [
      "[0.9 1.2 1.5]\n"
     ]
    }
   ],
   "source": [
    "print(fx)"
   ]
  },
  {
   "cell_type": "code",
   "execution_count": 54,
   "id": "345d8c98",
   "metadata": {},
   "outputs": [],
   "source": [
    "x_prev = x\n",
    "Fx = []\n",
    "for l in range(L-1):\n",
    "            # Fx = self.sigmoid(self.weights[l].T @ xprev + self.biases[l])\n",
    "    output = 1/(1+np.exp(np.dot(np.transpose(weights[l]), x_prev)+biases[l]))\n",
    "    Fx.append(output)\n",
    "    x_prev = output\n",
    "    \n",
    "            \n",
    "        \n",
    "Fxx = np.dot(np.transpose(weights[L-1]), x_prev)+biases[L-1]\n"
   ]
  },
  {
   "cell_type": "code",
   "execution_count": 55,
   "id": "7d23f8d1",
   "metadata": {},
   "outputs": [
    {
     "name": "stdout",
     "output_type": "stream",
     "text": [
      "[0.36448146]\n"
     ]
    }
   ],
   "source": [
    "print(Fxx)"
   ]
  },
  {
   "cell_type": "code",
   "execution_count": 45,
   "id": "1892edd2",
   "metadata": {},
   "outputs": [
    {
     "name": "stdout",
     "output_type": "stream",
     "text": [
      "range(0, 0)\n"
     ]
    }
   ],
   "source": [
    "print(range(L-2))"
   ]
  },
  {
   "cell_type": "code",
   "execution_count": 47,
   "id": "06a6fade",
   "metadata": {},
   "outputs": [],
   "source": [
    "for i in range(0):\n",
    "    print(i)"
   ]
  },
  {
   "cell_type": "code",
   "execution_count": 48,
   "id": "3a4ccead",
   "metadata": {},
   "outputs": [
    {
     "name": "stdout",
     "output_type": "stream",
     "text": [
      "range(0, 0)\n"
     ]
    }
   ],
   "source": [
    "print(range(0))"
   ]
  },
  {
   "cell_type": "code",
   "execution_count": 56,
   "id": "ead53436",
   "metadata": {},
   "outputs": [
    {
     "ename": "SyntaxError",
     "evalue": "cannot assign to conditional expression (2590723526.py, line 4)",
     "output_type": "error",
     "traceback": [
      "\u001b[0;36m  Input \u001b[0;32mIn [56]\u001b[0;36m\u001b[0m\n\u001b[0;31m    z = W.T @ a + b if Z else z = W.T @ x + b\u001b[0m\n\u001b[0m        ^\u001b[0m\n\u001b[0;31mSyntaxError\u001b[0m\u001b[0;31m:\u001b[0m cannot assign to conditional expression\n"
     ]
    }
   ],
   "source": [
    "Z = []\n",
    "A = []\n",
    "for b, W in zip(biases, weights):\n",
    "    z = W.T @ a + b if Z else z = W.T @ x + b\n",
    "    a = 1 / (1+np.exp(-z))\n",
    "    Z.append(z)\n",
    "    A.append(a)"
   ]
  },
  {
   "cell_type": "code",
   "execution_count": 146,
   "id": "18a11cc9",
   "metadata": {},
   "outputs": [],
   "source": [
    "s = []\n",
    "W_grad = []\n",
    "b_grad = []\n",
    "x_prev = x\n",
    "for l in range(L-1):\n",
    "            # Fx = self.sigmoid(self.weights[l].T @ xprev + self.biases[l])\n",
    "    output = 1/(1+np.exp(-(np.dot(np.transpose(weights[l]), x_prev)+biases[l])))\n",
    "    s.append(output)\n",
    "    x_prev = output"
   ]
  },
  {
   "cell_type": "code",
   "execution_count": 147,
   "id": "1dc671dd",
   "metadata": {},
   "outputs": [
    {
     "ename": "IndexError",
     "evalue": "list assignment index out of range",
     "output_type": "error",
     "traceback": [
      "\u001b[0;31m---------------------------------------------------------------------------\u001b[0m",
      "\u001b[0;31mIndexError\u001b[0m                                Traceback (most recent call last)",
      "Input \u001b[0;32mIn [147]\u001b[0m, in \u001b[0;36m<cell line: 1>\u001b[0;34m()\u001b[0m\n\u001b[1;32m      1\u001b[0m \u001b[38;5;28;01mfor\u001b[39;00m k \u001b[38;5;129;01min\u001b[39;00m \u001b[38;5;28mrange\u001b[39m(L\u001b[38;5;241m-\u001b[39m\u001b[38;5;241m1\u001b[39m, \u001b[38;5;241m-\u001b[39m\u001b[38;5;241m1\u001b[39m, \u001b[38;5;241m-\u001b[39m\u001b[38;5;241m1\u001b[39m):\n\u001b[1;32m      2\u001b[0m     inter \u001b[38;5;241m=\u001b[39m s[k]\u001b[38;5;241m*\u001b[39m(\u001b[38;5;241m1\u001b[39m\u001b[38;5;241m-\u001b[39ms[k])\u001b[38;5;241m*\u001b[39mnp\u001b[38;5;241m.\u001b[39mdot(weights[k\u001b[38;5;241m+\u001b[39m\u001b[38;5;241m1\u001b[39m], inter) \u001b[38;5;28;01mif\u001b[39;00m k \u001b[38;5;241m!=\u001b[39m L\u001b[38;5;241m-\u001b[39m\u001b[38;5;241m1\u001b[39m \u001b[38;5;28;01melse\u001b[39;00m np\u001b[38;5;241m.\u001b[39marray([\u001b[38;5;241m1\u001b[39m])\n\u001b[0;32m----> 3\u001b[0m     b_grad[k] \u001b[38;5;241m=\u001b[39m inter\n\u001b[1;32m      4\u001b[0m     W_grad[k] \u001b[38;5;241m=\u001b[39m np\u001b[38;5;241m.\u001b[39mdot(output[k\u001b[38;5;241m-\u001b[39m\u001b[38;5;241m1\u001b[39m], inter\u001b[38;5;241m.\u001b[39mT) \u001b[38;5;28;01mif\u001b[39;00m k\u001b[38;5;241m!=\u001b[39m \u001b[38;5;241m0\u001b[39m \u001b[38;5;28;01melse\u001b[39;00m np\u001b[38;5;241m.\u001b[39mmatmul(np\u001b[38;5;241m.\u001b[39mtranspose([x]), [inter])\n",
      "\u001b[0;31mIndexError\u001b[0m: list assignment index out of range"
     ]
    }
   ],
   "source": [
    "for k in range(L-1, -1, -1):\n",
    "    inter = s[k]*(1-s[k])*np.dot(weights[k+1], inter) if k != L-1 else np.array([1])\n",
    "    b_grad[k] = inter\n",
    "    W_grad[k] = np.dot(output[k-1], inter.T) if k!= 0 else np.matmul(np.transpose([x]), [inter])\n",
    "            "
   ]
  },
  {
   "cell_type": "code",
   "execution_count": 145,
   "id": "4131bdd8",
   "metadata": {},
   "outputs": [
    {
     "name": "stdout",
     "output_type": "stream",
     "text": [
      "[array([[0.16527857, 0.16804645, 0.17076132],\n",
      "       [0.33055715, 0.33609289, 0.34152265]]), array([0.69919277])]\n"
     ]
    }
   ],
   "source": [
    "print(W_grad)"
   ]
  },
  {
   "cell_type": "code",
   "execution_count": 141,
   "id": "66649981",
   "metadata": {},
   "outputs": [
    {
     "name": "stdout",
     "output_type": "stream",
     "text": [
      "[0.68083359]\n"
     ]
    }
   ],
   "source": [
    "inter = np.array([1])\n",
    "W_grad[1] = np.dot(output[k-1], inter.T)\n",
    "b_grad[1] = inter\n",
    "print(W_grad[1])"
   ]
  },
  {
   "cell_type": "code",
   "execution_count": 142,
   "id": "20852120",
   "metadata": {},
   "outputs": [
    {
     "name": "stdout",
     "output_type": "stream",
     "text": [
      "[array([[0.14057615, 0.1334671 , 0.12626755],\n",
      "       [0.28115229, 0.2669342 , 0.25253509]]), array([0.78583498])]\n"
     ]
    }
   ],
   "source": [
    "print(weights)"
   ]
  },
  {
   "cell_type": "code",
   "execution_count": null,
   "id": "914c2877",
   "metadata": {},
   "outputs": [],
   "source": [
    "W_grad = [np.zeros(W.shape) for b in self.weights]\n",
    "b_grad = [np.zeros(b.shape) for W in self.weights]"
   ]
  }
 ],
 "metadata": {
  "kernelspec": {
   "display_name": "Python 3 (ipykernel)",
   "language": "python",
   "name": "python3"
  },
  "language_info": {
   "codemirror_mode": {
    "name": "ipython",
    "version": 3
   },
   "file_extension": ".py",
   "mimetype": "text/x-python",
   "name": "python",
   "nbconvert_exporter": "python",
   "pygments_lexer": "ipython3",
   "version": "3.9.12"
  }
 },
 "nbformat": 4,
 "nbformat_minor": 5
}
